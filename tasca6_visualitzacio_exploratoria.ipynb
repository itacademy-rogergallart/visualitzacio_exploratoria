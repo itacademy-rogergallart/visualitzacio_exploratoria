{
  "nbformat": 4,
  "nbformat_minor": 0,
  "metadata": {
    "colab": {
      "name": "tasca6_visualitzacio_exploratoria.ipynb",
      "provenance": [],
      "authorship_tag": "ABX9TyOsndUgJmCX2fQmUjFOXe1E"
    },
    "kernelspec": {
      "name": "python3",
      "display_name": "Python 3"
    },
    "language_info": {
      "name": "python"
    }
  },
  "cells": [
    {
      "cell_type": "markdown",
      "metadata": {
        "id": "aXXXaac4k-h6"
      },
      "source": [
        "#Tasca 6: Visualització gràfica d'un dataset"
      ]
    },
    {
      "cell_type": "markdown",
      "metadata": {
        "id": "nrg2r6mck-cs"
      },
      "source": [
        "##Exercici 1\n",
        "Resumeix gràficament el data set DelayedFlights.csv\n",
        "\n",
        "Crea almenys una visualització per:\n",
        "\n",
        "Una variable categòrica (UniqueCarrier)\n",
        "Una variable numèrica (ArrDelay)\n",
        "Una variable numèrica i una categòrica (ArrDelay i UniqueCarrier)\n",
        "Dues variables numèriques (ArrDelay i DepDelay)\n",
        "Tres variables (ArrDelay, DepDelay i UniqueCarrier)\n",
        "Més de tres variables (ArrDelay, DepDelay, AirTime i UniqueCarrier)"
      ]
    },
    {
      "cell_type": "markdown",
      "metadata": {
        "id": "rkqhm-YAk-Zx"
      },
      "source": [
        "## Exercici 2\n",
        "Exporta els gràfics com imatges o com html."
      ]
    },
    {
      "cell_type": "markdown",
      "metadata": {
        "id": "0iOa9A5Jk-XP"
      },
      "source": [
        "##Exercici 3\n",
        "Exporta el data set net i amb les noves columnes a Excel."
      ]
    },
    {
      "cell_type": "markdown",
      "metadata": {
        "id": "O0r0A7Bnk-UV"
      },
      "source": [
        "## Exercici 4\n",
        "Integra les visualitzacions gràfiques, en la tasca 5, del Sprint 3.\n"
      ]
    }
  ]
}